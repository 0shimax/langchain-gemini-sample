{
 "cells": [
  {
   "cell_type": "code",
   "execution_count": 1,
   "id": "742a7cdb-27e2-45a1-8e13-a0a5ad1d13c5",
   "metadata": {},
   "outputs": [],
   "source": [
    "import os\n",
    "import traceback\n",
    "from langchain_google_genai import ChatGoogleGenerativeAI\n",
    "from langchain.schema import HumanMessage, SystemMessage\n",
    "from google import genai\n",
    "from google.genai import types"
   ]
  },
  {
   "cell_type": "code",
   "execution_count": 4,
   "id": "fd75ea4d-c3af-4423-824b-fe3e8ca3eb2d",
   "metadata": {},
   "outputs": [],
   "source": [
    "class OnsenAgent:\n",
    "    def __init__(self, model_name:str=\"gemini-2.5-flash\"):\n",
    "        self.modoel_name = model_name\n",
    "\n",
    "        api_key = os.getenv(\"GOOGLE_API_KEY\")\n",
    "        if not api_key:\n",
    "            raise ValueError(\"GOOGLE_API_KEY environment variable not set.\")\n",
    "        # Only run this block for Gemini Developer API\n",
    "        self.client = genai.Client(api_key=api_key)\n",
    "\n",
    "        self.llm = ChatGoogleGenerativeAI(model=model_name, google_api_key=api_key)\n",
    "        \n",
    "\n",
    "    def serach_web(self, user_question:str):\n",
    "        # Google Search Toolの定義\n",
    "        # https://ai.google.dev/gemini-api/docs/migrate?hl=ja\n",
    "        # https://github.com/googleapis/python-genai\n",
    "        response = self.client.models.generate_content(\n",
    "            model=self.modoel_name,\n",
    "            contents=user_question,\n",
    "            config=types.GenerateContentConfig(\n",
    "                tools=[\n",
    "                    types.Tool(\n",
    "                        google_search=types.GoogleSearch()\n",
    "                    )\n",
    "                ],\n",
    "                response_modalities=[\"TEXT\"],\n",
    "            )\n",
    "        )\n",
    "        return response.candidates[0].content.parts[0].text\n",
    "\n",
    "    def post_process(self, context:str, user_question:str):\n",
    "        final_response = self.llm.invoke([\n",
    "            SystemMessage(content=\"あなたは東京都内の天然温泉銭湯施設に関するAIエージェントです。以下の検索結果とユーザーの質問に基づいて、正確で役立つ回答を生成してください。\"),\n",
    "            HumanMessage(content=f\"検索結果:\\n{context}\\n\\nユーザーの質問: {user_question}\")\n",
    "        ]).content\n",
    "        return final_response\n",
    "\n",
    "    def explore(self, user_question: str):\n",
    "        try:\n",
    "            context = self.serach_web(user_question)\n",
    "            return self.post_process(context, user_question)\n",
    "        except Exception as e:\n",
    "            error_msg = traceback.format_exc()\n",
    "            msg = f\"エージェントの実行中にエラーが発生しました: {error_msg}\"\n",
    "            raise RuntimeError(msg)"
   ]
  },
  {
   "cell_type": "code",
   "execution_count": 5,
   "id": "10654677-9458-4a62-a0fb-c44b7f9377ef",
   "metadata": {},
   "outputs": [
    {
     "name": "stdout",
     "output_type": "stream",
     "text": [
      "東京都内天然温泉銭湯施設AIエージェントへようこそ！\n",
      "質問を入力してください（終了するには 'exit' と入力）。\n",
      "エージェント: 品川区には、天然温泉を楽しめる銭湯がいくつかあります。\n",
      "\n",
      "現在営業中または天然温泉であることを明記している主な銭湯は以下の通りです。\n",
      "\n",
      "*   **武蔵小山温泉 清水湯**: 武蔵小山駅から徒歩5分。黄金の湯と黒湯の2種類の天然温泉が楽しめます。特に黒湯は、きめ細かく澄んだ濃い琥珀色の上質なモール泉として知られています。岩盤浴も人気です。\n",
      "*   **中延温泉 松の湯**: 中延駅から徒歩2分。ジェットバス、露天風呂、薬湯、水風呂を含む全てのお湯が天然温泉です。本格的なロッキーサウナや、ヒノキの高濃度炭酸露天風呂も楽しめます。\n",
      "*   **北品川温泉 天神湯**: シャープでモダンなインテリアが特徴の天然温泉付き銭湯で、ミネラル豊富な黒湯の天然温泉が楽しめます。\n",
      "*   **戸越銀座温泉**: 戸越銀座界隈にある天然温泉を使用した銭湯で、「美人の湯」や「美肌の湯」として知られています。\n",
      "*   **西品川温泉 宮城湯**: メタケイ酸を含む微黄褐色澄明無味無臭（無色透明に近い）の天然温泉です。\n",
      "\n",
      "訪問前に、各銭湯の公式サイトやSNSで最新の営業状況をご確認いただくことをお勧めします。\n"
     ]
    }
   ],
   "source": [
    "# 環境変数の設定例 (実際にはシェルで設定)\n",
    "# os.environ[\"GOOGLE_API_KEY\"] = \"YOUR_GEMINI_API_KEY\"\n",
    "# os.environ[\"GOOGLE_CSE_ID\"] = \"YOUR_GOOGLE_CSE_ID\"\n",
    "\n",
    "agent = OnsenAgent()\n",
    "print(\"東京都内天然温泉銭湯施設AIエージェントへようこそ！\")\n",
    "print(\"質問を入力してください（終了するには 'exit' と入力）。\")\n",
    "\n",
    "# while True:\n",
    "question = \"品川区にある東京都内の天然温泉付き銭湯を探して\"\n",
    "response = agent.explore(question)\n",
    "print(f\"エージェント: {response}\")"
   ]
  },
  {
   "cell_type": "code",
   "execution_count": null,
   "id": "17a44421-01fb-4505-b618-a8250fcf5073",
   "metadata": {},
   "outputs": [],
   "source": []
  },
  {
   "cell_type": "code",
   "execution_count": null,
   "id": "ac100118-52c7-4d8c-b532-cd73c4698307",
   "metadata": {},
   "outputs": [],
   "source": []
  }
 ],
 "metadata": {
  "kernelspec": {
   "display_name": "Python 3 (ipykernel)",
   "language": "python",
   "name": "python3"
  },
  "language_info": {
   "codemirror_mode": {
    "name": "ipython",
    "version": 3
   },
   "file_extension": ".py",
   "mimetype": "text/x-python",
   "name": "python",
   "nbconvert_exporter": "python",
   "pygments_lexer": "ipython3",
   "version": "3.12.11"
  }
 },
 "nbformat": 4,
 "nbformat_minor": 5
}
